{
 "cells": [
  {
   "cell_type": "markdown",
   "metadata": {},
   "source": [
    "# Assignment 4 Group 16"
   ]
  },
  {
   "cell_type": "markdown",
   "metadata": {},
   "source": [
    "## Import the necessary libraries"
   ]
  },
  {
   "cell_type": "code",
   "execution_count": null,
   "metadata": {},
   "outputs": [],
   "source": [
    "import pandas as pd\n",
    "import numpy as np"
   ]
  },
  {
   "cell_type": "markdown",
   "metadata": {},
   "source": [
    "# Point 0: Variance-Covariance method for VaR and ES in a linear portfolio\n",
    "\n",
    "We have an equally weighted portfolio made up of the following equities:\n",
    "\n",
    "- Adidas\n",
    "- Allianz\n",
    "- Munich Re\n",
    "- L'Oréal\n",
    "\n",
    "We compute the daily VaR and ES with a 5y estimation using a t-student distribution with 4 degrees\n",
    "of freedom ($\\nu$).\n",
    "The notional of the portfolio is 15 million €. We take a significance level of $\\alpha = 0.99\\%$.\n",
    "\n",
    "Wherever we have missing data due to differing trading days for each stock we substitute the previous\n",
    "day's value."
   ]
  }
 ],
 "metadata": {
  "kernelspec": {
   "display_name": "venv",
   "language": "python",
   "name": "python3"
  },
  "language_info": {
   "name": "python",
   "version": "3.11.3"
  }
 },
 "nbformat": 4,
 "nbformat_minor": 2
}
